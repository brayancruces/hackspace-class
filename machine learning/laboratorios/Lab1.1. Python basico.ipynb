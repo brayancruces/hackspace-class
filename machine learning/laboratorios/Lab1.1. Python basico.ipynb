{
 "metadata": {
  "name": "",
  "signature": "sha256:ef4436137718bc077f814546fa074f59dac200294bd49032e7738e69f2ce337d"
 },
 "nbformat": 3,
 "nbformat_minor": 0,
 "worksheets": [
  {
   "cells": [
    {
     "cell_type": "markdown",
     "metadata": {},
     "source": [
      "Lab 1.1 Algebra Lineal y Visualizaci\u00f3n en Python\n",
      "====================================================\n",
      "\n",
      "Aprenderemos a usar las librer\u00edas Numpy y Matplotlib de Python"
     ]
    },
    {
     "cell_type": "code",
     "collapsed": false,
     "input": [
      "import numpy as np\n",
      "import matplotlib.pyplot as plt\n",
      "%matplotlib inline"
     ],
     "language": "python",
     "metadata": {},
     "outputs": [],
     "prompt_number": 4
    },
    {
     "cell_type": "markdown",
     "metadata": {},
     "source": [
      "Numpy: Algebra Lineal\n",
      "--------------------------"
     ]
    },
    {
     "cell_type": "code",
     "collapsed": false,
     "input": [
      "# Array unidimensional\n",
      "\n",
      "# Array multidimensional\n",
      "\n",
      "# Dimensiones de un array\n",
      "\n",
      "# estadisticas basicas\n"
     ],
     "language": "python",
     "metadata": {},
     "outputs": [],
     "prompt_number": 5
    },
    {
     "cell_type": "code",
     "collapsed": false,
     "input": [
      "## Operaciones vectoriales\n",
      "x = np.array([1,2])\n",
      "y = np.array([5,6])\n",
      "\n",
      "# inner mult\n",
      "\n",
      "# outer mult\n",
      "\n",
      "\n",
      "## Operaciones matriciales\n",
      "A = np.random.random([2,4])\n",
      "B = np.random.random([4,6])\n",
      "\n",
      "# dot product & matrix mult\n"
     ],
     "language": "python",
     "metadata": {},
     "outputs": [],
     "prompt_number": 6
    },
    {
     "cell_type": "markdown",
     "metadata": {},
     "source": [
      "Matplotlib: Visualizaci\u00f3n\n",
      "--------------------------------\n"
     ]
    },
    {
     "cell_type": "code",
     "collapsed": false,
     "input": [
      "X = np.linspace(0,4*np.pi,1000)\n",
      "C = np.cos(X)\n",
      "S = np.sin(X)"
     ],
     "language": "python",
     "metadata": {},
     "outputs": []
    },
    {
     "cell_type": "code",
     "collapsed": false,
     "input": [
      "plt.figure()\n",
      "\n",
      "\n",
      "plt.show()"
     ],
     "language": "python",
     "metadata": {},
     "outputs": []
    }
   ],
   "metadata": {}
  }
 ]
}