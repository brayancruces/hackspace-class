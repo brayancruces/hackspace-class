{
 "metadata": {
  "name": "",
  "signature": "sha256:7ee5ec61665ed66c42822e8321d6f6f2f9fbcc42f14cf69633baf3093b8942f4"
 },
 "nbformat": 3,
 "nbformat_minor": 0,
 "worksheets": [
  {
   "cells": [
    {
     "cell_type": "markdown",
     "metadata": {},
     "source": [
      "Introducci\u00f3n a Machine Learning\n",
      "=============\n",
      "\n",
      "Laboratorio 1. Parte 2. Perceptron\n",
      "------------------------\n",
      "\n",
      "En esta parte implementaremos el Perceptron para clasificar una clase (digito), siguiendo el enfoque One vs All.\n",
      "\n",
      "Documentaci\u00f3n del API de scikit-learn [aqui](http://scikit-learn.org/stable/modules/generated/sklearn.linear_model.Perceptron.html#sklearn.linear_model.Perceptron)."
     ]
    },
    {
     "cell_type": "code",
     "collapsed": false,
     "input": [
      "import numpy as np\n",
      "import matplotlib.pyplot as plt\n",
      "from sklearn import datasets\n",
      "from sklearn.cross_validation import train_test_split\n",
      "\n",
      "# Config the matlotlib backend as plotting inline in IPython\n",
      "%matplotlib inline"
     ],
     "language": "python",
     "metadata": {},
     "outputs": [],
     "prompt_number": 1
    },
    {
     "cell_type": "markdown",
     "metadata": {},
     "source": [
      "Cargamos el dataset"
     ]
    },
    {
     "cell_type": "code",
     "collapsed": false,
     "input": [
      "digits = datasets.load_digits()\n",
      "\n",
      "X, y = digits.data, digits.target"
     ],
     "language": "python",
     "metadata": {},
     "outputs": [],
     "prompt_number": 2
    },
    {
     "cell_type": "markdown",
     "metadata": {},
     "source": [
      "Redefinimos clases para clasificaci\u00f3n binaria"
     ]
    },
    {
     "cell_type": "code",
     "collapsed": false,
     "input": [
      "digit_to_classify = 0\n",
      "y[y==digit_to_classify] = 1\n",
      "y[y!=digit_to_classify] = 0"
     ],
     "language": "python",
     "metadata": {},
     "outputs": [],
     "prompt_number": 3
    },
    {
     "cell_type": "markdown",
     "metadata": {},
     "source": [
      "Dividimos el dataset en data de entrenamiento y de testeo"
     ]
    },
    {
     "cell_type": "code",
     "collapsed": false,
     "input": [
      "test_perc = 0.2 # porcentaje de datos para testeo\n",
      "\n",
      "indexes = range(X.shape[0])\n",
      "train_idxs,test_idxs = train_test_split(indexes,test_size=test_perc,random_state=42)\n",
      "\n",
      "Xtrain = X[train_idxs,:]\n",
      "Ytrain = y[train_idxs]\n",
      "\n",
      "Xtest = X[test_idxs,:]\n",
      "Ytest = y[test_idxs]\n",
      "print(\"Muestras en training set: %i\" % Xtrain.shape[0])\n",
      "print(\"Muestras en testing set:  %i\" % Xtest.shape[0])"
     ],
     "language": "python",
     "metadata": {},
     "outputs": [
      {
       "output_type": "stream",
       "stream": "stdout",
       "text": [
        "Muestras en training set: 1437\n",
        "Muestras en testing set:  360\n"
       ]
      }
     ],
     "prompt_number": 4
    },
    {
     "cell_type": "markdown",
     "metadata": {},
     "source": [
      "----\n",
      "Problema 1\n",
      "------\n",
      "Implemente la funci\u00f3n perceptron_update."
     ]
    },
    {
     "cell_type": "code",
     "collapsed": false,
     "input": [
      "def perceptron_update(x,w):\n",
      "    x = np.hstack"
     ],
     "language": "python",
     "metadata": {},
     "outputs": []
    }
   ],
   "metadata": {}
  }
 ]
}