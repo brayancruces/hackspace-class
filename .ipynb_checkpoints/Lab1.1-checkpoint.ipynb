{
 "metadata": {
  "colab": {
   "default_view": {},
   "name": "1_notmnist.ipynb",
   "provenance": [],
   "version": "0.3.2",
   "views": {}
  },
  "name": "",
  "signature": "sha256:b415a6c05d9a49c2b286f1f8acf3eb9a531910138d63b12541273c765e21dc45"
 },
 "nbformat": 3,
 "nbformat_minor": 0,
 "worksheets": [
  {
   "cells": [
    {
     "cell_type": "markdown",
     "metadata": {
      "colab_type": "text",
      "id": "5hIbr52I7Z7U"
     },
     "source": [
      "[HackSpace] Curso de Machine Learning\n",
      "=============\n",
      "\n",
      "Laboratorio 1. Parte 1\n",
      "------------------------\n",
      "\n",
      "El objetivo de esta parte es cargar el dataset [notMNIST](http://yaroslavvb.blogspot.com/2011/09/notmnist-dataset.html) a usar para entrenar los modelos. Adem\u00e1s, exploraremos el dataset.\n",
      "\n",
      "Este dataset esta basado en el conocido [MNIST](http://yann.lecun.com/exdb/mnist/), pero retocado para que parezca data mas 'real' y compleja.\n"
     ]
    },
    {
     "cell_type": "code",
     "collapsed": false,
     "input": [
      "# These are all the modules we'll be using later. Make sure you can import them\n",
      "# before proceeding further.\n",
      "from __future__ import print_function\n",
      "import matplotlib.pyplot as plt\n",
      "import numpy as np\n",
      "import os\n",
      "import sys\n",
      "import tarfile\n",
      "from IPython.display import display, Image\n",
      "from scipy import ndimage\n",
      "from sklearn.linear_model import LogisticRegression\n",
      "from six.moves.urllib.request import urlretrieve\n",
      "from six.moves import cPickle as pickle\n",
      "\n",
      "# Config the matlotlib backend as plotting inline in IPython\n",
      "%matplotlib inline"
     ],
     "language": "python",
     "metadata": {
      "cellView": "both",
      "colab": {
       "autoexec": {
        "startup": false,
        "wait_interval": 0
       }
      },
      "colab_type": "code",
      "id": "apJbCsBHl-2A"
     },
     "outputs": [],
     "prompt_number": 8
    },
    {
     "cell_type": "markdown",
     "metadata": {
      "colab_type": "text",
      "id": "jNWGtZaXn-5j"
     },
     "source": [
      "Primero, se descargar\u00e1 el dataset a la computadora. La data consiste en caracteres procesados en una variedad de fuentes en una image de 28x28 pixeles. Las clases estan limitadas a letras de la 'A' a la 'J' (10 clases).\n",
      "El training set consiste de 500k y el test set de 19k muestras clasificadas. Debido al tama\u00f1o, el entrenamiento ser\u00e1 m\u00e1s r\u00e1pido que con el dataset MNIST."
     ]
    },
    {
     "cell_type": "code",
     "collapsed": false,
     "input": [
      "url = 'http://commondatastorage.googleapis.com/books1000/'\n",
      "last_percent_reported = None\n",
      "\n",
      "def download_progress_hook(count, blockSize, totalSize):\n",
      "  \"\"\"A hook to report the progress of a download. This is mostly intended for users with\n",
      "  slow internet connections. Reports every 1% change in download progress.\n",
      "  \"\"\"\n",
      "  global last_percent_reported\n",
      "  percent = int(count * blockSize * 100 / totalSize)\n",
      "\n",
      "  if last_percent_reported != percent:\n",
      "    if percent % 5 == 0:\n",
      "      sys.stdout.write(\"%s%%\" % percent)\n",
      "      sys.stdout.flush()\n",
      "    else:\n",
      "      sys.stdout.write(\".\")\n",
      "      sys.stdout.flush()\n",
      "      \n",
      "    last_percent_reported = percent\n",
      "        \n",
      "def maybe_download(filename, expected_bytes, force=False):\n",
      "  \"\"\"Download a file if not present, and make sure it's the right size.\"\"\"\n",
      "  if force or not os.path.exists(filename):\n",
      "    print('Attempting to download:', filename) \n",
      "    filename, _ = urlretrieve(url + filename, filename, reporthook=download_progress_hook)\n",
      "    print('\\nDownload Complete!')\n",
      "  statinfo = os.stat(filename)\n",
      "  if statinfo.st_size == expected_bytes:\n",
      "    print('Found and verified', filename)\n",
      "  else:\n",
      "    raise Exception(\n",
      "      'Failed to verify ' + filename + '. Can you get to it with a browser?')\n",
      "  return filename\n",
      "\n",
      "train_filename = maybe_download('notMNIST_large.tar.gz', 247336696)\n",
      "test_filename = maybe_download('notMNIST_small.tar.gz', 8458043)"
     ],
     "language": "python",
     "metadata": {
      "cellView": "both",
      "colab": {
       "autoexec": {
        "startup": false,
        "wait_interval": 0
       },
       "output_extras": [
        {
         "item_id": 1
        }
       ]
      },
      "colab_type": "code",
      "executionInfo": {
       "elapsed": 186058,
       "status": "ok",
       "timestamp": 1444485672507,
       "user": {
        "color": "#1FA15D",
        "displayName": "Vincent Vanhoucke",
        "isAnonymous": false,
        "isMe": true,
        "permissionId": "05076109866853157986",
        "photoUrl": "//lh6.googleusercontent.com/-cCJa7dTDcgQ/AAAAAAAAAAI/AAAAAAAACgw/r2EZ_8oYer4/s50-c-k-no/photo.jpg",
        "sessionId": "2a0a5e044bb03b66",
        "userId": "102167687554210253930"
       },
       "user_tz": 420
      },
      "id": "EYRJ4ICW6-da",
      "outputId": "0d0f85df-155f-4a89-8e7e-ee32df36ec8d"
     },
     "outputs": [
      {
       "output_type": "stream",
       "stream": "stdout",
       "text": [
        "Found and verified notMNIST_large.tar.gz\n",
        "Found and verified notMNIST_small.tar.gz\n"
       ]
      }
     ],
     "prompt_number": 9
    },
    {
     "cell_type": "markdown",
     "metadata": {
      "colab_type": "text",
      "id": "cC3p0oEyF8QT"
     },
     "source": [
      "Extrae el dataset del archivo comprimido .tar.gz para obtener un conjunto de carpetas, nombradas de la A a la J."
     ]
    },
    {
     "cell_type": "code",
     "collapsed": false,
     "input": [
      "num_classes = 10\n",
      "np.random.seed(133)\n",
      "\n",
      "def maybe_extract(filename, force=False):\n",
      "  root = os.path.splitext(os.path.splitext(filename)[0])[0]  # remove .tar.gz\n",
      "  if os.path.isdir(root) and not force:\n",
      "    # You may override by setting force=True.\n",
      "    print('%s already present - Skipping extraction of %s.' % (root, filename))\n",
      "  else:\n",
      "    print('Extracting data for %s. This may take a while. Please wait.' % root)\n",
      "    tar = tarfile.open(filename)\n",
      "    sys.stdout.flush()\n",
      "    tar.extractall()\n",
      "    tar.close()\n",
      "  data_folders = [\n",
      "    os.path.join(root, d) for d in sorted(os.listdir(root))\n",
      "    if os.path.isdir(os.path.join(root, d))]\n",
      "  if len(data_folders) != num_classes:\n",
      "    raise Exception(\n",
      "      'Expected %d folders, one per class. Found %d instead.' % (\n",
      "        num_classes, len(data_folders)))\n",
      "  print(data_folders)\n",
      "  return data_folders\n",
      "  \n",
      "train_folders = maybe_extract(train_filename)\n",
      "test_folders = maybe_extract(test_filename)"
     ],
     "language": "python",
     "metadata": {
      "cellView": "both",
      "colab": {
       "autoexec": {
        "startup": false,
        "wait_interval": 0
       },
       "output_extras": [
        {
         "item_id": 1
        }
       ]
      },
      "colab_type": "code",
      "executionInfo": {
       "elapsed": 186055,
       "status": "ok",
       "timestamp": 1444485672525,
       "user": {
        "color": "#1FA15D",
        "displayName": "Vincent Vanhoucke",
        "isAnonymous": false,
        "isMe": true,
        "permissionId": "05076109866853157986",
        "photoUrl": "//lh6.googleusercontent.com/-cCJa7dTDcgQ/AAAAAAAAAAI/AAAAAAAACgw/r2EZ_8oYer4/s50-c-k-no/photo.jpg",
        "sessionId": "2a0a5e044bb03b66",
        "userId": "102167687554210253930"
       },
       "user_tz": 420
      },
      "id": "H8CBE-WZ8nmj",
      "outputId": "ef6c790c-2513-4b09-962e-27c79390c762"
     },
     "outputs": [
      {
       "output_type": "stream",
       "stream": "stdout",
       "text": [
        "notMNIST_large already present - Skipping extraction of notMNIST_large.tar.gz.\n",
        "['notMNIST_large/A', 'notMNIST_large/B', 'notMNIST_large/C', 'notMNIST_large/D', 'notMNIST_large/E', 'notMNIST_large/F', 'notMNIST_large/G', 'notMNIST_large/H', 'notMNIST_large/I', 'notMNIST_large/J']"
       ]
      },
      {
       "output_type": "stream",
       "stream": "stdout",
       "text": [
        "\n",
        "notMNIST_small already present - Skipping extraction of notMNIST_small.tar.gz.\n",
        "['notMNIST_small/A', 'notMNIST_small/B', 'notMNIST_small/C', 'notMNIST_small/D', 'notMNIST_small/E', 'notMNIST_small/F', 'notMNIST_small/G', 'notMNIST_small/H', 'notMNIST_small/I', 'notMNIST_small/J']"
       ]
      },
      {
       "output_type": "stream",
       "stream": "stdout",
       "text": [
        "\n"
       ]
      }
     ],
     "prompt_number": 10
    },
    {
     "cell_type": "markdown",
     "metadata": {},
     "source": [
      "---\n",
      "Problema 1: Visualizar la data\n",
      "---------\n",
      "\n",
      "Cada muestra corresponde a una imagen de una letra (A-J) con diferente fuente.\n",
      "Plotear unas 4 imagenes.\n",
      "Hint: puedes usar la librer\u00eda IPython.display.\n",
      "\n",
      "---"
     ]
    },
    {
     "cell_type": "code",
     "collapsed": false,
     "input": [
      "from IPython.display import Image\n",
      "\n",
      "Image('notMNIST_small/A/MlRvb24yIFNoYWRvdy50dGY=.png')\n",
      "\n"
     ],
     "language": "python",
     "metadata": {},
     "outputs": [
      {
       "metadata": {},
       "output_type": "pyout",
       "png": "[encoded data removed]",
       "prompt_number": 16,
       "text": [
        "<IPython.core.display.Image at 0x7fdcf49e3d30>"
       ]
      }
     ],
     "prompt_number": 16
    },
    {
     "cell_type": "code",
     "collapsed": false,
     "input": [
      "Image('notMNIST_small/A/MTIgV2FsYmF1bSBJdGFsaWMgMTMyNjMudHRm.png')"
     ],
     "language": "python",
     "metadata": {},
     "outputs": [
      {
       "metadata": {},
       "output_type": "pyout",
       "png": "[encoded data removed]",
       "prompt_number": 17,
       "text": [
        "<IPython.core.display.Image at 0x7fdcf49e3c88>"
       ]
      }
     ],
     "prompt_number": 17
    },
    {
     "cell_type": "markdown",
     "metadata": {
      "colab_type": "text",
      "id": "PBdkjESPK8tw"
     },
     "source": [
      "Ahora leeremos la data en un formato mas manejable. Se convertir\u00e1 el dataset en un array de flotantes de 3 dimensiones. (image index, x, y).\n",
      "\n",
      "Alguna im\u00e1genes talvez no puedan leerse, el programa los ignorar\u00e1.\n"
     ]
    },
    {
     "cell_type": "code",
     "collapsed": false,
     "input": [
      "image_size = 28  # Pixel width and height.\n",
      "pixel_depth = 255.0  # Number of levels per pixel.\n",
      "\n",
      "def load_letter(folder, min_num_images):\n",
      "  \"\"\"Load the data for a single letter label.\"\"\"\n",
      "  image_files = os.listdir(folder)\n",
      "  dataset = np.ndarray(shape=(len(image_files), image_size, image_size),\n",
      "                         dtype=np.float32)\n",
      "  print(folder)\n",
      "  num_images = 0\n",
      "  for image in image_files:\n",
      "    image_file = os.path.join(folder, image)\n",
      "    try:\n",
      "      image_data = (ndimage.imread(image_file).astype(float) - \n",
      "                    pixel_depth / 2) / pixel_depth\n",
      "      if image_data.shape != (image_size, image_size):\n",
      "        raise Exception('Unexpected image shape: %s' % str(image_data.shape))\n",
      "      dataset[num_images, :, :] = image_data\n",
      "      num_images = num_images + 1\n",
      "    except IOError as e:\n",
      "      print('Could not read:', image_file, ':', e, '- it\\'s ok, skipping.')\n",
      "    \n",
      "  dataset = dataset[0:num_images, :, :]\n",
      "  if num_images < min_num_images:\n",
      "    raise Exception('Many fewer images than expected: %d < %d' %\n",
      "                    (num_images, min_num_images))\n",
      "    \n",
      "  print('Full dataset tensor:', dataset.shape)\n",
      "  print('Mean:', np.mean(dataset))\n",
      "  print('Standard deviation:', np.std(dataset))\n",
      "  return dataset\n",
      "        \n",
      "def maybe_pickle(data_folders, min_num_images_per_class, force=False):\n",
      "  dataset_names = []\n",
      "  for folder in data_folders:\n",
      "    set_filename = folder + '.pickle'\n",
      "    dataset_names.append(set_filename)\n",
      "    if os.path.exists(set_filename) and not force:\n",
      "      # You may override by setting force=True.\n",
      "      print('%s already present - Skipping pickling.' % set_filename)\n",
      "    else:\n",
      "      print('Pickling %s.' % set_filename)\n",
      "      dataset = load_letter(folder, min_num_images_per_class)\n",
      "      try:\n",
      "        with open(set_filename, 'wb') as f:\n",
      "          pickle.dump(dataset, f, pickle.HIGHEST_PROTOCOL)\n",
      "      except Exception as e:\n",
      "        print('Unable to save data to', set_filename, ':', e)\n",
      "  \n",
      "  return dataset_names\n",
      "\n",
      "train_datasets = maybe_pickle(train_folders, 45000)\n",
      "test_datasets = maybe_pickle(test_folders, 1800)"
     ],
     "language": "python",
     "metadata": {
      "cellView": "both",
      "colab": {
       "autoexec": {
        "startup": false,
        "wait_interval": 0
       },
       "output_extras": [
        {
         "item_id": 30
        }
       ]
      },
      "colab_type": "code",
      "executionInfo": {
       "elapsed": 399874,
       "status": "ok",
       "timestamp": 1444485886378,
       "user": {
        "color": "#1FA15D",
        "displayName": "Vincent Vanhoucke",
        "isAnonymous": false,
        "isMe": true,
        "permissionId": "05076109866853157986",
        "photoUrl": "//lh6.googleusercontent.com/-cCJa7dTDcgQ/AAAAAAAAAAI/AAAAAAAACgw/r2EZ_8oYer4/s50-c-k-no/photo.jpg",
        "sessionId": "2a0a5e044bb03b66",
        "userId": "102167687554210253930"
       },
       "user_tz": 420
      },
      "id": "h7q0XhG3MJdf",
      "outputId": "92c391bb-86ff-431d-9ada-315568a19e59"
     },
     "outputs": []
    },
    {
     "cell_type": "markdown",
     "metadata": {
      "colab_type": "text",
      "id": "vUdbskYE2d87"
     },
     "source": [
      "---\n",
      "Problema 2\n",
      "---------\n",
      "\n",
      "Visualiza una imagen a partir del ndarray procesado. Hint: puedes usar matplotlib.pyplot.\n",
      "\n",
      "---"
     ]
    },
    {
     "cell_type": "code",
     "collapsed": false,
     "input": [
      "plt.imshow(train_datasets[0])"
     ],
     "language": "python",
     "metadata": {},
     "outputs": []
    },
    {
     "cell_type": "markdown",
     "metadata": {
      "colab_type": "text",
      "id": "LA7M7K22ynCt"
     },
     "source": [
      "-----\n",
      "Combinar y podar el dataset\n",
      "---------\n",
      "\n",
      "Las siguientes funciones combinan la data hasta ahora separada por letra. Se puede limitar cuanta data se va a combinar con las variables `train_size`, `valid_size` y `test_size`. Las clases ser\u00e1n guardadas en un array aparte de enteros del 0 al 9.\n",
      "\n",
      "El dataset de validaci\u00f3n sirve para sintonizaci\u00f3n de hiperpar\u00e1metros de los modelos.\n"
     ]
    },
    {
     "cell_type": "code",
     "collapsed": false,
     "input": [
      "def make_arrays(nb_rows, img_size):\n",
      "  if nb_rows:\n",
      "    dataset = np.ndarray((nb_rows, img_size, img_size), dtype=np.float32)\n",
      "    labels = np.ndarray(nb_rows, dtype=np.int32)\n",
      "  else:\n",
      "    dataset, labels = None, None\n",
      "  return dataset, labels\n",
      "\n",
      "def merge_datasets(pickle_files, train_size, valid_size=0):\n",
      "  num_classes = len(pickle_files)\n",
      "  valid_dataset, valid_labels = make_arrays(valid_size, image_size)\n",
      "  train_dataset, train_labels = make_arrays(train_size, image_size)\n",
      "  vsize_per_class = valid_size // num_classes\n",
      "  tsize_per_class = train_size // num_classes\n",
      "    \n",
      "  start_v, start_t = 0, 0\n",
      "  end_v, end_t = vsize_per_class, tsize_per_class\n",
      "  end_l = vsize_per_class+tsize_per_class\n",
      "  for label, pickle_file in enumerate(pickle_files):       \n",
      "    try:\n",
      "      with open(pickle_file, 'rb') as f:\n",
      "        letter_set = pickle.load(f)\n",
      "        # let's shuffle the letters to have random validation and training set\n",
      "        np.random.shuffle(letter_set)\n",
      "        if valid_dataset is not None:\n",
      "          valid_letter = letter_set[:vsize_per_class, :, :]\n",
      "          valid_dataset[start_v:end_v, :, :] = valid_letter\n",
      "          valid_labels[start_v:end_v] = label\n",
      "          start_v += vsize_per_class\n",
      "          end_v += vsize_per_class\n",
      "                    \n",
      "        train_letter = letter_set[vsize_per_class:end_l, :, :]\n",
      "        train_dataset[start_t:end_t, :, :] = train_letter\n",
      "        train_labels[start_t:end_t] = label\n",
      "        start_t += tsize_per_class\n",
      "        end_t += tsize_per_class\n",
      "    except Exception as e:\n",
      "      print('Unable to process data from', pickle_file, ':', e)\n",
      "      raise\n",
      "    \n",
      "  return valid_dataset, valid_labels, train_dataset, train_labels\n",
      "            \n",
      "            \n",
      "train_size = 200000\n",
      "valid_size = 10000\n",
      "test_size = 10000\n",
      "\n",
      "valid_dataset, valid_labels, train_dataset, train_labels = merge_datasets(\n",
      "  train_datasets, train_size, valid_size)\n",
      "_, _, test_dataset, test_labels = merge_datasets(test_datasets, test_size)\n",
      "\n",
      "print('Training:', train_dataset.shape, train_labels.shape)\n",
      "print('Validation:', valid_dataset.shape, valid_labels.shape)\n",
      "print('Testing:', test_dataset.shape, test_labels.shape)"
     ],
     "language": "python",
     "metadata": {
      "cellView": "both",
      "colab": {
       "autoexec": {
        "startup": false,
        "wait_interval": 0
       },
       "output_extras": [
        {
         "item_id": 1
        }
       ]
      },
      "colab_type": "code",
      "executionInfo": {
       "elapsed": 411281,
       "status": "ok",
       "timestamp": 1444485897869,
       "user": {
        "color": "#1FA15D",
        "displayName": "Vincent Vanhoucke",
        "isAnonymous": false,
        "isMe": true,
        "permissionId": "05076109866853157986",
        "photoUrl": "//lh6.googleusercontent.com/-cCJa7dTDcgQ/AAAAAAAAAAI/AAAAAAAACgw/r2EZ_8oYer4/s50-c-k-no/photo.jpg",
        "sessionId": "2a0a5e044bb03b66",
        "userId": "102167687554210253930"
       },
       "user_tz": 420
      },
      "id": "s3mWgZLpyuzq",
      "outputId": "8af66da6-902d-4719-bedc-7c9fb7ae7948"
     },
     "outputs": []
    },
    {
     "cell_type": "markdown",
     "metadata": {
      "colab_type": "text",
      "id": "GPTCnjIcyuKN"
     },
     "source": [
      "Ahora, se aleateorizar\u00e1 la data. Algunos modelos son muy sensibles al orden en el que se recorre la data, as\u00ed que debemos barajar los datasets."
     ]
    },
    {
     "cell_type": "code",
     "collapsed": false,
     "input": [
      "def randomize(dataset, labels):\n",
      "  permutation = np.random.permutation(labels.shape[0])\n",
      "  shuffled_dataset = dataset[permutation,:,:]\n",
      "  shuffled_labels = labels[permutation]\n",
      "  return shuffled_dataset, shuffled_labels\n",
      "train_dataset, train_labels = randomize(train_dataset, train_labels)\n",
      "test_dataset, test_labels = randomize(test_dataset, test_labels)\n",
      "valid_dataset, valid_labels = randomize(valid_dataset, valid_labels)"
     ],
     "language": "python",
     "metadata": {
      "cellView": "both",
      "colab": {
       "autoexec": {
        "startup": false,
        "wait_interval": 0
       }
      },
      "colab_type": "code",
      "id": "6WZ2l2tN2zOL"
     },
     "outputs": []
    },
    {
     "cell_type": "markdown",
     "metadata": {
      "colab_type": "text",
      "id": "tIQJaJuwg5Hw"
     },
     "source": [
      "Finalmente, guardar la data separada para posterior uso:"
     ]
    },
    {
     "cell_type": "code",
     "collapsed": false,
     "input": [
      "pickle_file = 'notMNIST.pickle'\n",
      "\n",
      "try:\n",
      "  f = open(pickle_file, 'wb')\n",
      "  save = {\n",
      "    'train_dataset': train_dataset,\n",
      "    'train_labels': train_labels,\n",
      "    'valid_dataset': valid_dataset,\n",
      "    'valid_labels': valid_labels,\n",
      "    'test_dataset': test_dataset,\n",
      "    'test_labels': test_labels,\n",
      "    }\n",
      "  pickle.dump(save, f, pickle.HIGHEST_PROTOCOL)\n",
      "  f.close()\n",
      "except Exception as e:\n",
      "  print('Unable to save data to', pickle_file, ':', e)\n",
      "  raise"
     ],
     "language": "python",
     "metadata": {
      "cellView": "both",
      "colab": {
       "autoexec": {
        "startup": false,
        "wait_interval": 0
       }
      },
      "colab_type": "code",
      "id": "QiR_rETzem6C"
     },
     "outputs": []
    },
    {
     "cell_type": "code",
     "collapsed": false,
     "input": [
      "statinfo = os.stat(pickle_file)\n",
      "print('Compressed pickle size:', statinfo.st_size)"
     ],
     "language": "python",
     "metadata": {
      "cellView": "both",
      "colab": {
       "autoexec": {
        "startup": false,
        "wait_interval": 0
       },
       "output_extras": [
        {
         "item_id": 1
        }
       ]
      },
      "colab_type": "code",
      "executionInfo": {
       "elapsed": 413065,
       "status": "ok",
       "timestamp": 1444485899688,
       "user": {
        "color": "#1FA15D",
        "displayName": "Vincent Vanhoucke",
        "isAnonymous": false,
        "isMe": true,
        "permissionId": "05076109866853157986",
        "photoUrl": "//lh6.googleusercontent.com/-cCJa7dTDcgQ/AAAAAAAAAAI/AAAAAAAACgw/r2EZ_8oYer4/s50-c-k-no/photo.jpg",
        "sessionId": "2a0a5e044bb03b66",
        "userId": "102167687554210253930"
       },
       "user_tz": 420
      },
      "id": "hQbLjrW_iT39",
      "outputId": "b440efc6-5ee1-4cbc-d02d-93db44ebd956"
     },
     "outputs": []
    }
   ],
   "metadata": {}
  }
 ]
}