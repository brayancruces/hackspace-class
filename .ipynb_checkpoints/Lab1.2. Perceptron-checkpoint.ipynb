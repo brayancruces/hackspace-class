{
 "metadata": {
  "name": "",
  "signature": "sha256:9eb4a449fe566a629ba9e1a2f9d2e7af19a7c7a53309a5799acf6d1fe6d4058e"
 },
 "nbformat": 3,
 "nbformat_minor": 0,
 "worksheets": []
}